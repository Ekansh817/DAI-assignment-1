{
 "cells": [
  {
   "cell_type": "code",
   "execution_count": null,
   "id": "d8fccc83-a254-4388-bbac-a4f7aa5dea45",
   "metadata": {},
   "outputs": [],
   "source": []
  }
 ],
 "metadata": {
  "kernelspec": {
   "display_name": "",
   "name": ""
  },
  "language_info": {
   "name": ""
  }
 },
 "nbformat": 4,
 "nbformat_minor": 5
}
